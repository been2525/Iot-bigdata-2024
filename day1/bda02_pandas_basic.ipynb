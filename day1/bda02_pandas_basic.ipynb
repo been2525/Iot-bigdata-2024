{
 "cells": [
  {
   "cell_type": "markdown",
   "metadata": {},
   "source": [
    "### Pandas 기초\n",
    "- 데이터 처리 라이브러리\n",
    "\n",
    "#### Pandas처리\n",
    "```shell\n",
    "!pip install pandas\n",
    "```\n",
    "\n",
    "#### PyArrow 설치\n",
    "- Pandas에 새로 추가된 라이브러리\n",
    "```shell\n",
    "!pip install pyarrow\n",
    "```"
   ]
  },
  {
   "cell_type": "code",
   "execution_count": 1,
   "metadata": {},
   "outputs": [
    {
     "name": "stdout",
     "output_type": "stream",
     "text": [
      "Requirement already satisfied: pandas in c:\\dev\\langs\\python311\\lib\\site-packages (2.2.0)\n",
      "Requirement already satisfied: numpy<2,>=1.23.2 in c:\\dev\\langs\\python311\\lib\\site-packages (from pandas) (1.26.3)\n",
      "Requirement already satisfied: python-dateutil>=2.8.2 in c:\\users\\user\\appdata\\roaming\\python\\python311\\site-packages (from pandas) (2.8.2)\n",
      "Requirement already satisfied: pytz>=2020.1 in c:\\dev\\langs\\python311\\lib\\site-packages (from pandas) (2024.1)\n",
      "Requirement already satisfied: tzdata>=2022.7 in c:\\dev\\langs\\python311\\lib\\site-packages (from pandas) (2024.1)\n",
      "Requirement already satisfied: six>=1.5 in c:\\users\\user\\appdata\\roaming\\python\\python311\\site-packages (from python-dateutil>=2.8.2->pandas) (1.16.0)\n"
     ]
    },
    {
     "name": "stderr",
     "output_type": "stream",
     "text": [
      "\n",
      "[notice] A new release of pip is available: 24.0 -> 24.2\n",
      "[notice] To update, run: python.exe -m pip install --upgrade pip\n"
     ]
    }
   ],
   "source": [
    "!pip install pandas"
   ]
  },
  {
   "cell_type": "markdown",
   "metadata": {},
   "source": [
    "- Pandas 사용"
   ]
  },
  {
   "cell_type": "code",
   "execution_count": 3,
   "metadata": {},
   "outputs": [
    {
     "name": "stdout",
     "output_type": "stream",
     "text": [
      "Collecting pyarrow\n",
      "  Downloading pyarrow-17.0.0-cp311-cp311-win_amd64.whl.metadata (3.4 kB)\n",
      "Requirement already satisfied: numpy>=1.16.6 in c:\\dev\\langs\\python311\\lib\\site-packages (from pyarrow) (1.26.3)\n",
      "Downloading pyarrow-17.0.0-cp311-cp311-win_amd64.whl (25.2 MB)\n",
      "   ---------------------------------------- 0.0/25.2 MB ? eta -:--:--\n",
      "   ---------------------------------------- 0.0/25.2 MB ? eta -:--:--\n",
      "    --------------------------------------- 0.3/25.2 MB 6.8 MB/s eta 0:00:04\n",
      "   - -------------------------------------- 0.9/25.2 MB 9.0 MB/s eta 0:00:03\n",
      "   -- ------------------------------------- 1.4/25.2 MB 9.8 MB/s eta 0:00:03\n",
      "   --- ------------------------------------ 1.9/25.2 MB 10.3 MB/s eta 0:00:03\n",
      "   --- ------------------------------------ 2.5/25.2 MB 10.6 MB/s eta 0:00:03\n",
      "   ---- ----------------------------------- 3.0/25.2 MB 10.8 MB/s eta 0:00:03\n",
      "   ----- ---------------------------------- 3.6/25.2 MB 10.9 MB/s eta 0:00:02\n",
      "   ------ --------------------------------- 4.2/25.2 MB 11.1 MB/s eta 0:00:02\n",
      "   ------- -------------------------------- 4.7/25.2 MB 11.1 MB/s eta 0:00:02\n",
      "   -------- ------------------------------- 5.3/25.2 MB 11.2 MB/s eta 0:00:02\n",
      "   --------- ------------------------------ 5.8/25.2 MB 10.9 MB/s eta 0:00:02\n",
      "   ---------- ----------------------------- 6.4/25.2 MB 11.0 MB/s eta 0:00:02\n",
      "   ----------- ---------------------------- 6.9/25.2 MB 11.1 MB/s eta 0:00:02\n",
      "   ----------- ---------------------------- 7.4/25.2 MB 11.0 MB/s eta 0:00:02\n",
      "   ------------ --------------------------- 7.9/25.2 MB 11.2 MB/s eta 0:00:02\n",
      "   ------------- -------------------------- 8.4/25.2 MB 10.9 MB/s eta 0:00:02\n",
      "   -------------- ------------------------- 8.9/25.2 MB 11.0 MB/s eta 0:00:02\n",
      "   --------------- ------------------------ 9.5/25.2 MB 11.1 MB/s eta 0:00:02\n",
      "   --------------- ------------------------ 10.1/25.2 MB 11.1 MB/s eta 0:00:02\n",
      "   ---------------- ----------------------- 10.6/25.2 MB 11.5 MB/s eta 0:00:02\n",
      "   ----------------- ---------------------- 11.2/25.2 MB 11.5 MB/s eta 0:00:02\n",
      "   ------------------ --------------------- 11.7/25.2 MB 11.5 MB/s eta 0:00:02\n",
      "   ------------------- -------------------- 12.3/25.2 MB 11.5 MB/s eta 0:00:02\n",
      "   -------------------- ------------------- 12.8/25.2 MB 11.5 MB/s eta 0:00:02\n",
      "   --------------------- ------------------ 13.4/25.2 MB 11.5 MB/s eta 0:00:02\n",
      "   ---------------------- ----------------- 13.9/25.2 MB 11.5 MB/s eta 0:00:01\n",
      "   ----------------------- ---------------- 14.5/25.2 MB 11.5 MB/s eta 0:00:01\n",
      "   ----------------------- ---------------- 15.1/25.2 MB 11.5 MB/s eta 0:00:01\n",
      "   ------------------------ --------------- 15.6/25.2 MB 11.5 MB/s eta 0:00:01\n",
      "   ------------------------- -------------- 16.2/25.2 MB 11.5 MB/s eta 0:00:01\n",
      "   -------------------------- ------------- 16.7/25.2 MB 11.5 MB/s eta 0:00:01\n",
      "   --------------------------- ------------ 17.3/25.2 MB 11.5 MB/s eta 0:00:01\n",
      "   ---------------------------- ----------- 17.8/25.2 MB 11.7 MB/s eta 0:00:01\n",
      "   ----------------------------- ---------- 18.3/25.2 MB 11.7 MB/s eta 0:00:01\n",
      "   ----------------------------- ---------- 18.9/25.2 MB 11.7 MB/s eta 0:00:01\n",
      "   ------------------------------ --------- 19.4/25.2 MB 11.7 MB/s eta 0:00:01\n",
      "   ------------------------------- -------- 19.8/25.2 MB 11.5 MB/s eta 0:00:01\n",
      "   -------------------------------- ------- 20.4/25.2 MB 11.5 MB/s eta 0:00:01\n",
      "   --------------------------------- ------ 20.9/25.2 MB 11.5 MB/s eta 0:00:01\n",
      "   --------------------------------- ------ 21.0/25.2 MB 11.5 MB/s eta 0:00:01\n",
      "   --------------------------------- ------ 21.0/25.2 MB 11.5 MB/s eta 0:00:01\n",
      "   ---------------------------------- ----- 21.5/25.2 MB 10.4 MB/s eta 0:00:01\n",
      "   ----------------------------------- ---- 22.1/25.2 MB 10.4 MB/s eta 0:00:01\n",
      "   ----------------------------------- ---- 22.6/25.2 MB 10.4 MB/s eta 0:00:01\n",
      "   ------------------------------------ --- 23.1/25.2 MB 10.6 MB/s eta 0:00:01\n",
      "   ------------------------------------ --- 23.1/25.2 MB 10.6 MB/s eta 0:00:01\n",
      "   ------------------------------------ --- 23.2/25.2 MB 9.6 MB/s eta 0:00:01\n",
      "   ------------------------------------- -- 23.8/25.2 MB 9.6 MB/s eta 0:00:01\n",
      "   -------------------------------------- - 24.3/25.2 MB 9.6 MB/s eta 0:00:01\n",
      "   ---------------------------------------  24.9/25.2 MB 9.6 MB/s eta 0:00:01\n",
      "   ---------------------------------------  25.1/25.2 MB 9.6 MB/s eta 0:00:01\n",
      "   ---------------------------------------- 25.2/25.2 MB 9.2 MB/s eta 0:00:00\n",
      "Installing collected packages: pyarrow\n",
      "Successfully installed pyarrow-17.0.0\n"
     ]
    },
    {
     "name": "stderr",
     "output_type": "stream",
     "text": [
      "\n",
      "[notice] A new release of pip is available: 24.0 -> 24.2\n",
      "[notice] To update, run: python.exe -m pip install --upgrade pip\n"
     ]
    }
   ],
   "source": [
    "!pip install pyarrow"
   ]
  },
  {
   "cell_type": "code",
   "execution_count": 4,
   "metadata": {},
   "outputs": [],
   "source": [
    "import pandas as pd # pd로 줄여씀"
   ]
  },
  {
   "cell_type": "markdown",
   "metadata": {},
   "source": [
    "#### 판다스 기본\n",
    "- 시리즈, 데이터 프레임 개념\n",
    "- 판다스에서는 데이터프레임이 가장 기본. 데이터 처리도중 잘라서 시리즈를 사용함\n",
    "\n",
    "<img src=\"https://raw.githubusercontent.com/hugoMGSung/bigdata-analysis-2024/main/images/ba001.png\" width=\"730\">"
   ]
  },
  {
   "cell_type": "code",
   "execution_count": 6,
   "metadata": {},
   "outputs": [
    {
     "data": {
      "text/plain": [
       "({'이름': ['성유고', '애슐리', '홍길동'], '나이': [47, 40, 99], '결혼': [True, True, False]},\n",
       " dict)"
      ]
     },
     "execution_count": 6,
     "metadata": {},
     "output_type": "execute_result"
    }
   ],
   "source": [
    "# 데이터프레임 객체 - 2차원 배열\n",
    "## 딕셔너리로 DataFrame을 생성\n",
    "origin = {'이름' : ['성유고', '애슐리', '홍길동'], '나이' : [47, 40, 99], '결혼' : [True, True, False]}\n",
    "origin, type(origin)"
   ]
  },
  {
   "cell_type": "code",
   "execution_count": 8,
   "metadata": {},
   "outputs": [
    {
     "data": {
      "text/html": [
       "<div>\n",
       "<style scoped>\n",
       "    .dataframe tbody tr th:only-of-type {\n",
       "        vertical-align: middle;\n",
       "    }\n",
       "\n",
       "    .dataframe tbody tr th {\n",
       "        vertical-align: top;\n",
       "    }\n",
       "\n",
       "    .dataframe thead th {\n",
       "        text-align: right;\n",
       "    }\n",
       "</style>\n",
       "<table border=\"1\" class=\"dataframe\">\n",
       "  <thead>\n",
       "    <tr style=\"text-align: right;\">\n",
       "      <th></th>\n",
       "      <th>이름</th>\n",
       "      <th>나이</th>\n",
       "      <th>결혼</th>\n",
       "    </tr>\n",
       "  </thead>\n",
       "  <tbody>\n",
       "    <tr>\n",
       "      <th>0</th>\n",
       "      <td>성유고</td>\n",
       "      <td>47</td>\n",
       "      <td>True</td>\n",
       "    </tr>\n",
       "    <tr>\n",
       "      <th>1</th>\n",
       "      <td>애슐리</td>\n",
       "      <td>40</td>\n",
       "      <td>True</td>\n",
       "    </tr>\n",
       "    <tr>\n",
       "      <th>2</th>\n",
       "      <td>홍길동</td>\n",
       "      <td>99</td>\n",
       "      <td>False</td>\n",
       "    </tr>\n",
       "  </tbody>\n",
       "</table>\n",
       "</div>"
      ],
      "text/plain": [
       "    이름  나이     결혼\n",
       "0  성유고  47   True\n",
       "1  애슐리  40   True\n",
       "2  홍길동  99  False"
      ]
     },
     "execution_count": 8,
     "metadata": {},
     "output_type": "execute_result"
    }
   ],
   "source": [
    "## 딕셔너리로 데이터프레임 생성, 변수명을 보통 df로 사용\n",
    "df = pd.DataFrame(data=origin)\n",
    "df"
   ]
  },
  {
   "cell_type": "code",
   "execution_count": 9,
   "metadata": {},
   "outputs": [
    {
     "data": {
      "text/plain": [
       "pandas.core.frame.DataFrame"
      ]
     },
     "execution_count": 9,
     "metadata": {},
     "output_type": "execute_result"
    }
   ],
   "source": [
    "# 데이터 프레임타입\n",
    "type(df)"
   ]
  },
  {
   "cell_type": "code",
   "execution_count": 11,
   "metadata": {},
   "outputs": [
    {
     "data": {
      "text/html": [
       "<div>\n",
       "<style scoped>\n",
       "    .dataframe tbody tr th:only-of-type {\n",
       "        vertical-align: middle;\n",
       "    }\n",
       "\n",
       "    .dataframe tbody tr th {\n",
       "        vertical-align: top;\n",
       "    }\n",
       "\n",
       "    .dataframe thead th {\n",
       "        text-align: right;\n",
       "    }\n",
       "</style>\n",
       "<table border=\"1\" class=\"dataframe\">\n",
       "  <thead>\n",
       "    <tr style=\"text-align: right;\">\n",
       "      <th></th>\n",
       "      <th>0</th>\n",
       "      <th>1</th>\n",
       "      <th>2</th>\n",
       "      <th>3</th>\n",
       "    </tr>\n",
       "  </thead>\n",
       "  <tbody>\n",
       "    <tr>\n",
       "      <th>0</th>\n",
       "      <td>성유고</td>\n",
       "      <td>47</td>\n",
       "      <td>부산</td>\n",
       "      <td>True</td>\n",
       "    </tr>\n",
       "    <tr>\n",
       "      <th>1</th>\n",
       "      <td>애슐리</td>\n",
       "      <td>40</td>\n",
       "      <td>부산</td>\n",
       "      <td>True</td>\n",
       "    </tr>\n",
       "    <tr>\n",
       "      <th>2</th>\n",
       "      <td>홍길동</td>\n",
       "      <td>99</td>\n",
       "      <td>경성</td>\n",
       "      <td>False</td>\n",
       "    </tr>\n",
       "    <tr>\n",
       "      <th>3</th>\n",
       "      <td>홍길순</td>\n",
       "      <td>90</td>\n",
       "      <td>경성</td>\n",
       "      <td>False</td>\n",
       "    </tr>\n",
       "  </tbody>\n",
       "</table>\n",
       "</div>"
      ],
      "text/plain": [
       "     0   1   2      3\n",
       "0  성유고  47  부산   True\n",
       "1  애슐리  40  부산   True\n",
       "2  홍길동  99  경성  False\n",
       "3  홍길순  90  경성  False"
      ]
     },
     "execution_count": 11,
     "metadata": {},
     "output_type": "execute_result"
    }
   ],
   "source": [
    "## 2. 파이썬 리스트로 데이터프레임생성\n",
    "data = [['성유고', 47, '부산', True],\n",
    "        ['애슐리', 40, '부산', True],\n",
    "        ['홍길동', 99, '경성', False],\n",
    "        ['홍길순', 90, '경성', False]]\n",
    "df2 = pd.DataFrame(data=data)\n",
    "df2"
   ]
  },
  {
   "cell_type": "code",
   "execution_count": 12,
   "metadata": {},
   "outputs": [
    {
     "data": {
      "text/html": [
       "<div>\n",
       "<style scoped>\n",
       "    .dataframe tbody tr th:only-of-type {\n",
       "        vertical-align: middle;\n",
       "    }\n",
       "\n",
       "    .dataframe tbody tr th {\n",
       "        vertical-align: top;\n",
       "    }\n",
       "\n",
       "    .dataframe thead th {\n",
       "        text-align: right;\n",
       "    }\n",
       "</style>\n",
       "<table border=\"1\" class=\"dataframe\">\n",
       "  <thead>\n",
       "    <tr style=\"text-align: right;\">\n",
       "      <th></th>\n",
       "      <th>이름</th>\n",
       "      <th>나이</th>\n",
       "      <th>주소</th>\n",
       "      <th>결혼</th>\n",
       "    </tr>\n",
       "  </thead>\n",
       "  <tbody>\n",
       "    <tr>\n",
       "      <th>0</th>\n",
       "      <td>성유고</td>\n",
       "      <td>47</td>\n",
       "      <td>부산</td>\n",
       "      <td>True</td>\n",
       "    </tr>\n",
       "    <tr>\n",
       "      <th>1</th>\n",
       "      <td>애슐리</td>\n",
       "      <td>40</td>\n",
       "      <td>부산</td>\n",
       "      <td>True</td>\n",
       "    </tr>\n",
       "    <tr>\n",
       "      <th>2</th>\n",
       "      <td>홍길동</td>\n",
       "      <td>99</td>\n",
       "      <td>경성</td>\n",
       "      <td>False</td>\n",
       "    </tr>\n",
       "    <tr>\n",
       "      <th>3</th>\n",
       "      <td>홍길순</td>\n",
       "      <td>90</td>\n",
       "      <td>경성</td>\n",
       "      <td>False</td>\n",
       "    </tr>\n",
       "  </tbody>\n",
       "</table>\n",
       "</div>"
      ],
      "text/plain": [
       "    이름  나이  주소     결혼\n",
       "0  성유고  47  부산   True\n",
       "1  애슐리  40  부산   True\n",
       "2  홍길동  99  경성  False\n",
       "3  홍길순  90  경성  False"
      ]
     },
     "execution_count": 12,
     "metadata": {},
     "output_type": "execute_result"
    }
   ],
   "source": [
    "## 리스트로 DF를 만들면 컬럼 제목이 없기때문에 추가를 해줘야함\\\n",
    "df2 = pd.DataFrame(data=data, columns=['이름', '나이', '주소', '결혼'])\n",
    "df2"
   ]
  }
 ],
 "metadata": {
  "kernelspec": {
   "display_name": "Python 3",
   "language": "python",
   "name": "python3"
  },
  "language_info": {
   "codemirror_mode": {
    "name": "ipython",
    "version": 3
   },
   "file_extension": ".py",
   "mimetype": "text/x-python",
   "name": "python",
   "nbconvert_exporter": "python",
   "pygments_lexer": "ipython3",
   "version": "3.11.5"
  }
 },
 "nbformat": 4,
 "nbformat_minor": 2
}
