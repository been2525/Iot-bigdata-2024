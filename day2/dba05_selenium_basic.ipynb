{
 "cells": [
  {
   "cell_type": "markdown",
   "metadata": {},
   "source": [
    "### Selenium 기초\n",
    "\n",
    "- 동적인 웹 크롤링 라이브러리\n",
    "    - 단순 페이지 로딩 + 페이지 이동 자동화 -> 웹페이지 메모리상 데이터를 가져오는 방식\n",
    "    - 조금 크롤링 속도가 느린 단점\n",
    "\n",
    "#### Selenium 설치\n",
    "```shell\n",
    "!pip install selenium\n",
    "```"
   ]
  },
  {
   "cell_type": "code",
   "execution_count": 1,
   "metadata": {},
   "outputs": [
    {
     "name": "stdout",
     "output_type": "stream",
     "text": [
      "Collecting selenium\n",
      "  Downloading selenium-4.23.1-py3-none-any.whl.metadata (7.1 kB)\n",
      "Requirement already satisfied: urllib3<3,>=1.26 in c:\\dev\\langs\\python311\\lib\\site-packages (from urllib3[socks]<3,>=1.26->selenium) (2.2.0)\n",
      "Collecting trio~=0.17 (from selenium)\n",
      "  Downloading trio-0.26.0-py3-none-any.whl.metadata (8.8 kB)\n",
      "Collecting trio-websocket~=0.9 (from selenium)\n",
      "  Downloading trio_websocket-0.11.1-py3-none-any.whl.metadata (4.7 kB)\n",
      "Requirement already satisfied: certifi>=2021.10.8 in c:\\dev\\langs\\python311\\lib\\site-packages (from selenium) (2023.11.17)\n",
      "Requirement already satisfied: typing_extensions~=4.9 in c:\\dev\\langs\\python311\\lib\\site-packages (from selenium) (4.9.0)\n",
      "Collecting websocket-client~=1.8 (from selenium)\n",
      "  Downloading websocket_client-1.8.0-py3-none-any.whl.metadata (8.0 kB)\n",
      "Collecting attrs>=23.2.0 (from trio~=0.17->selenium)\n",
      "  Downloading attrs-24.1.0-py3-none-any.whl.metadata (14 kB)\n",
      "Collecting sortedcontainers (from trio~=0.17->selenium)\n",
      "  Downloading sortedcontainers-2.4.0-py2.py3-none-any.whl.metadata (10 kB)\n",
      "Requirement already satisfied: idna in c:\\dev\\langs\\python311\\lib\\site-packages (from trio~=0.17->selenium) (3.6)\n",
      "Collecting outcome (from trio~=0.17->selenium)\n",
      "  Downloading outcome-1.3.0.post0-py2.py3-none-any.whl.metadata (2.6 kB)\n",
      "Collecting sniffio>=1.3.0 (from trio~=0.17->selenium)\n",
      "  Downloading sniffio-1.3.1-py3-none-any.whl.metadata (3.9 kB)\n",
      "Collecting cffi>=1.14 (from trio~=0.17->selenium)\n",
      "  Downloading cffi-1.16.0-cp311-cp311-win_amd64.whl.metadata (1.5 kB)\n",
      "Collecting wsproto>=0.14 (from trio-websocket~=0.9->selenium)\n",
      "  Downloading wsproto-1.2.0-py3-none-any.whl.metadata (5.6 kB)\n",
      "Collecting pysocks!=1.5.7,<2.0,>=1.5.6 (from urllib3[socks]<3,>=1.26->selenium)\n",
      "  Downloading PySocks-1.7.1-py3-none-any.whl.metadata (13 kB)\n",
      "Collecting pycparser (from cffi>=1.14->trio~=0.17->selenium)\n",
      "  Downloading pycparser-2.22-py3-none-any.whl.metadata (943 bytes)\n",
      "Collecting h11<1,>=0.9.0 (from wsproto>=0.14->trio-websocket~=0.9->selenium)\n",
      "  Downloading h11-0.14.0-py3-none-any.whl.metadata (8.2 kB)\n",
      "Downloading selenium-4.23.1-py3-none-any.whl (9.4 MB)\n",
      "   ---------------------------------------- 0.0/9.4 MB ? eta -:--:--\n",
      "   ---------------------------------------- 0.0/9.4 MB 991.0 kB/s eta 0:00:10\n",
      "   ---------------------------------------- 0.1/9.4 MB 1.1 MB/s eta 0:00:09\n",
      "    --------------------------------------- 0.2/9.4 MB 1.2 MB/s eta 0:00:08\n",
      "    --------------------------------------- 0.2/9.4 MB 1.1 MB/s eta 0:00:09\n",
      "   - -------------------------------------- 0.3/9.4 MB 1.1 MB/s eta 0:00:09\n",
      "   - -------------------------------------- 0.3/9.4 MB 1.1 MB/s eta 0:00:09\n",
      "   - -------------------------------------- 0.4/9.4 MB 1.2 MB/s eta 0:00:08\n",
      "   - -------------------------------------- 0.4/9.4 MB 1.1 MB/s eta 0:00:08\n",
      "   - -------------------------------------- 0.5/9.4 MB 1.1 MB/s eta 0:00:08\n",
      "   -- ------------------------------------- 0.5/9.4 MB 1.2 MB/s eta 0:00:08\n",
      "   -- ------------------------------------- 0.6/9.4 MB 1.1 MB/s eta 0:00:08\n",
      "   -- ------------------------------------- 0.6/9.4 MB 1.2 MB/s eta 0:00:08\n",
      "   -- ------------------------------------- 0.7/9.4 MB 1.2 MB/s eta 0:00:08\n",
      "   --- ------------------------------------ 0.7/9.4 MB 1.2 MB/s eta 0:00:08\n",
      "   --- ------------------------------------ 0.8/9.4 MB 1.1 MB/s eta 0:00:08\n",
      "   --- ------------------------------------ 0.9/9.4 MB 1.2 MB/s eta 0:00:08\n",
      "   --- ------------------------------------ 0.9/9.4 MB 1.2 MB/s eta 0:00:08\n",
      "   ---- ----------------------------------- 1.0/9.4 MB 1.2 MB/s eta 0:00:08\n",
      "   ---- ----------------------------------- 1.0/9.4 MB 1.2 MB/s eta 0:00:08\n",
      "   ---- ----------------------------------- 1.1/9.4 MB 1.2 MB/s eta 0:00:08\n",
      "   ---- ----------------------------------- 1.1/9.4 MB 1.2 MB/s eta 0:00:08\n",
      "   ----- ---------------------------------- 1.2/9.4 MB 1.2 MB/s eta 0:00:08\n",
      "   ----- ---------------------------------- 1.2/9.4 MB 1.2 MB/s eta 0:00:08\n",
      "   ----- ---------------------------------- 1.3/9.4 MB 1.2 MB/s eta 0:00:08\n",
      "   ----- ---------------------------------- 1.4/9.4 MB 1.2 MB/s eta 0:00:07\n",
      "   ----- ---------------------------------- 1.4/9.4 MB 1.2 MB/s eta 0:00:07\n",
      "   ------ --------------------------------- 1.4/9.4 MB 1.2 MB/s eta 0:00:07\n",
      "   ------ --------------------------------- 1.5/9.4 MB 1.2 MB/s eta 0:00:07\n",
      "   ------ --------------------------------- 1.5/9.4 MB 1.2 MB/s eta 0:00:07\n",
      "   ------ --------------------------------- 1.6/9.4 MB 1.2 MB/s eta 0:00:07\n",
      "   ------- -------------------------------- 1.7/9.4 MB 1.2 MB/s eta 0:00:07\n",
      "   ------- -------------------------------- 1.7/9.4 MB 1.2 MB/s eta 0:00:07\n",
      "   ------- -------------------------------- 1.8/9.4 MB 1.2 MB/s eta 0:00:07\n",
      "   ------- -------------------------------- 1.8/9.4 MB 1.2 MB/s eta 0:00:07\n",
      "   ------- -------------------------------- 1.9/9.4 MB 1.2 MB/s eta 0:00:07\n",
      "   -------- ------------------------------- 1.9/9.4 MB 1.2 MB/s eta 0:00:07\n",
      "   -------- ------------------------------- 2.0/9.4 MB 1.2 MB/s eta 0:00:07\n",
      "   -------- ------------------------------- 2.0/9.4 MB 1.2 MB/s eta 0:00:07\n",
      "   -------- ------------------------------- 2.1/9.4 MB 1.2 MB/s eta 0:00:07\n",
      "   --------- ------------------------------ 2.2/9.4 MB 1.2 MB/s eta 0:00:07\n",
      "   --------- ------------------------------ 2.2/9.4 MB 1.2 MB/s eta 0:00:07\n",
      "   --------- ------------------------------ 2.3/9.4 MB 1.2 MB/s eta 0:00:07\n",
      "   --------- ------------------------------ 2.3/9.4 MB 1.2 MB/s eta 0:00:07\n",
      "   ---------- ----------------------------- 2.4/9.4 MB 1.2 MB/s eta 0:00:07\n",
      "   ---------- ----------------------------- 2.4/9.4 MB 1.2 MB/s eta 0:00:07\n",
      "   ---------- ----------------------------- 2.5/9.4 MB 1.2 MB/s eta 0:00:07\n",
      "   ---------- ----------------------------- 2.5/9.4 MB 1.2 MB/s eta 0:00:06\n",
      "   ---------- ----------------------------- 2.6/9.4 MB 1.2 MB/s eta 0:00:06\n",
      "   ----------- ---------------------------- 2.6/9.4 MB 1.2 MB/s eta 0:00:06\n",
      "   ----------- ---------------------------- 2.7/9.4 MB 1.2 MB/s eta 0:00:06\n",
      "   ----------- ---------------------------- 2.7/9.4 MB 1.2 MB/s eta 0:00:06\n",
      "   ----------- ---------------------------- 2.8/9.4 MB 1.2 MB/s eta 0:00:06\n",
      "   ------------ --------------------------- 2.8/9.4 MB 1.2 MB/s eta 0:00:06\n",
      "   ------------ --------------------------- 2.9/9.4 MB 1.2 MB/s eta 0:00:06\n",
      "   ------------ --------------------------- 2.9/9.4 MB 1.1 MB/s eta 0:00:06\n",
      "   ------------ --------------------------- 3.0/9.4 MB 1.2 MB/s eta 0:00:06\n",
      "   ------------ --------------------------- 3.1/9.4 MB 1.2 MB/s eta 0:00:06\n",
      "   ------------- -------------------------- 3.1/9.4 MB 1.1 MB/s eta 0:00:06\n",
      "   ------------- -------------------------- 3.2/9.4 MB 1.2 MB/s eta 0:00:06\n",
      "   ------------- -------------------------- 3.2/9.4 MB 1.1 MB/s eta 0:00:06\n",
      "   ------------- -------------------------- 3.3/9.4 MB 1.1 MB/s eta 0:00:06\n",
      "   -------------- ------------------------- 3.3/9.4 MB 1.2 MB/s eta 0:00:06\n",
      "   -------------- ------------------------- 3.4/9.4 MB 1.1 MB/s eta 0:00:06\n",
      "   -------------- ------------------------- 3.4/9.4 MB 1.2 MB/s eta 0:00:06\n",
      "   -------------- ------------------------- 3.5/9.4 MB 1.2 MB/s eta 0:00:06\n",
      "   --------------- ------------------------ 3.5/9.4 MB 1.1 MB/s eta 0:00:06\n",
      "   --------------- ------------------------ 3.6/9.4 MB 1.2 MB/s eta 0:00:06\n",
      "   --------------- ------------------------ 3.6/9.4 MB 1.2 MB/s eta 0:00:06\n",
      "   --------------- ------------------------ 3.7/9.4 MB 1.1 MB/s eta 0:00:05\n",
      "   --------------- ------------------------ 3.8/9.4 MB 1.2 MB/s eta 0:00:05\n",
      "   ---------------- ----------------------- 3.8/9.4 MB 1.2 MB/s eta 0:00:05\n",
      "   ---------------- ----------------------- 3.9/9.4 MB 1.1 MB/s eta 0:00:05\n",
      "   ---------------- ----------------------- 3.9/9.4 MB 1.2 MB/s eta 0:00:05\n",
      "   ---------------- ----------------------- 4.0/9.4 MB 1.2 MB/s eta 0:00:05\n",
      "   ----------------- ---------------------- 4.0/9.4 MB 1.2 MB/s eta 0:00:05\n",
      "   ----------------- ---------------------- 4.1/9.4 MB 1.2 MB/s eta 0:00:05\n",
      "   ----------------- ---------------------- 4.1/9.4 MB 1.2 MB/s eta 0:00:05\n",
      "   ----------------- ---------------------- 4.2/9.4 MB 1.2 MB/s eta 0:00:05\n",
      "   ------------------ --------------------- 4.3/9.4 MB 1.2 MB/s eta 0:00:05\n",
      "   ------------------ --------------------- 4.3/9.4 MB 1.2 MB/s eta 0:00:05\n",
      "   ------------------ --------------------- 4.4/9.4 MB 1.2 MB/s eta 0:00:05\n",
      "   ------------------ --------------------- 4.4/9.4 MB 1.2 MB/s eta 0:00:05\n",
      "   ------------------ --------------------- 4.5/9.4 MB 1.2 MB/s eta 0:00:05\n",
      "   ------------------- -------------------- 4.5/9.4 MB 1.2 MB/s eta 0:00:05\n",
      "   ------------------- -------------------- 4.6/9.4 MB 1.2 MB/s eta 0:00:05\n",
      "   ------------------- -------------------- 4.6/9.4 MB 1.2 MB/s eta 0:00:05\n",
      "   ------------------- -------------------- 4.7/9.4 MB 1.2 MB/s eta 0:00:05\n",
      "   -------------------- ------------------- 4.7/9.4 MB 1.2 MB/s eta 0:00:05\n",
      "   -------------------- ------------------- 4.8/9.4 MB 1.2 MB/s eta 0:00:05\n",
      "   -------------------- ------------------- 4.9/9.4 MB 1.2 MB/s eta 0:00:04\n",
      "   -------------------- ------------------- 4.9/9.4 MB 1.2 MB/s eta 0:00:04\n",
      "   -------------------- ------------------- 5.0/9.4 MB 1.2 MB/s eta 0:00:04\n",
      "   --------------------- ------------------ 5.0/9.4 MB 1.2 MB/s eta 0:00:04\n",
      "   --------------------- ------------------ 5.1/9.4 MB 1.2 MB/s eta 0:00:04\n",
      "   --------------------- ------------------ 5.1/9.4 MB 1.2 MB/s eta 0:00:04\n",
      "   --------------------- ------------------ 5.2/9.4 MB 1.2 MB/s eta 0:00:04\n",
      "   ---------------------- ----------------- 5.2/9.4 MB 1.2 MB/s eta 0:00:04\n",
      "   ---------------------- ----------------- 5.3/9.4 MB 1.2 MB/s eta 0:00:04\n",
      "   ---------------------- ----------------- 5.4/9.4 MB 1.2 MB/s eta 0:00:04\n",
      "   ---------------------- ----------------- 5.4/9.4 MB 1.2 MB/s eta 0:00:04\n",
      "   ----------------------- ---------------- 5.4/9.4 MB 1.2 MB/s eta 0:00:04\n",
      "   ----------------------- ---------------- 5.5/9.4 MB 1.2 MB/s eta 0:00:04\n",
      "   ----------------------- ---------------- 5.6/9.4 MB 1.2 MB/s eta 0:00:04\n",
      "   ----------------------- ---------------- 5.6/9.4 MB 1.2 MB/s eta 0:00:04\n",
      "   ------------------------ --------------- 5.7/9.4 MB 1.2 MB/s eta 0:00:04\n",
      "   ------------------------ --------------- 5.7/9.4 MB 1.2 MB/s eta 0:00:04\n",
      "   ------------------------ --------------- 5.8/9.4 MB 1.2 MB/s eta 0:00:04\n",
      "   ------------------------ --------------- 5.8/9.4 MB 1.2 MB/s eta 0:00:04\n",
      "   ------------------------ --------------- 5.9/9.4 MB 1.2 MB/s eta 0:00:04\n",
      "   ------------------------- -------------- 5.9/9.4 MB 1.2 MB/s eta 0:00:04\n",
      "   ------------------------- -------------- 6.0/9.4 MB 1.2 MB/s eta 0:00:03\n",
      "   ------------------------- -------------- 6.1/9.4 MB 1.2 MB/s eta 0:00:03\n",
      "   ------------------------- -------------- 6.1/9.4 MB 1.2 MB/s eta 0:00:03\n",
      "   -------------------------- ------------- 6.2/9.4 MB 1.2 MB/s eta 0:00:03\n",
      "   -------------------------- ------------- 6.2/9.4 MB 1.2 MB/s eta 0:00:03\n",
      "   -------------------------- ------------- 6.3/9.4 MB 1.2 MB/s eta 0:00:03\n",
      "   -------------------------- ------------- 6.3/9.4 MB 1.2 MB/s eta 0:00:03\n",
      "   --------------------------- ------------ 6.4/9.4 MB 1.2 MB/s eta 0:00:03\n",
      "   --------------------------- ------------ 6.4/9.4 MB 1.2 MB/s eta 0:00:03\n",
      "   --------------------------- ------------ 6.5/9.4 MB 1.2 MB/s eta 0:00:03\n",
      "   --------------------------- ------------ 6.6/9.4 MB 1.2 MB/s eta 0:00:03\n",
      "   --------------------------- ------------ 6.6/9.4 MB 1.2 MB/s eta 0:00:03\n",
      "   ---------------------------- ----------- 6.6/9.4 MB 1.2 MB/s eta 0:00:03\n",
      "   ---------------------------- ----------- 6.7/9.4 MB 1.2 MB/s eta 0:00:03\n",
      "   ---------------------------- ----------- 6.8/9.4 MB 1.2 MB/s eta 0:00:03\n",
      "   ---------------------------- ----------- 6.8/9.4 MB 1.2 MB/s eta 0:00:03\n",
      "   ----------------------------- ---------- 6.9/9.4 MB 1.2 MB/s eta 0:00:03\n",
      "   ----------------------------- ---------- 6.9/9.4 MB 1.2 MB/s eta 0:00:03\n",
      "   ----------------------------- ---------- 7.0/9.4 MB 1.2 MB/s eta 0:00:03\n",
      "   ----------------------------- ---------- 7.0/9.4 MB 1.2 MB/s eta 0:00:03\n",
      "   ------------------------------ --------- 7.1/9.4 MB 1.2 MB/s eta 0:00:03\n",
      "   ------------------------------ --------- 7.1/9.4 MB 1.2 MB/s eta 0:00:02\n",
      "   ------------------------------ --------- 7.2/9.4 MB 1.2 MB/s eta 0:00:02\n",
      "   ------------------------------ --------- 7.2/9.4 MB 1.2 MB/s eta 0:00:02\n",
      "   ------------------------------ --------- 7.3/9.4 MB 1.2 MB/s eta 0:00:02\n",
      "   ------------------------------- -------- 7.4/9.4 MB 1.2 MB/s eta 0:00:02\n",
      "   ------------------------------- -------- 7.4/9.4 MB 1.2 MB/s eta 0:00:02\n",
      "   ------------------------------- -------- 7.5/9.4 MB 1.2 MB/s eta 0:00:02\n",
      "   ------------------------------- -------- 7.5/9.4 MB 1.2 MB/s eta 0:00:02\n",
      "   -------------------------------- ------- 7.6/9.4 MB 1.2 MB/s eta 0:00:02\n",
      "   -------------------------------- ------- 7.6/9.4 MB 1.2 MB/s eta 0:00:02\n",
      "   -------------------------------- ------- 7.7/9.4 MB 1.2 MB/s eta 0:00:02\n",
      "   -------------------------------- ------- 7.7/9.4 MB 1.2 MB/s eta 0:00:02\n",
      "   --------------------------------- ------ 7.8/9.4 MB 1.2 MB/s eta 0:00:02\n",
      "   --------------------------------- ------ 7.8/9.4 MB 1.2 MB/s eta 0:00:02\n",
      "   --------------------------------- ------ 7.9/9.4 MB 1.2 MB/s eta 0:00:02\n",
      "   --------------------------------- ------ 8.0/9.4 MB 1.2 MB/s eta 0:00:02\n",
      "   --------------------------------- ------ 8.0/9.4 MB 1.2 MB/s eta 0:00:02\n",
      "   ---------------------------------- ----- 8.1/9.4 MB 1.2 MB/s eta 0:00:02\n",
      "   ---------------------------------- ----- 8.1/9.4 MB 1.2 MB/s eta 0:00:02\n",
      "   ---------------------------------- ----- 8.2/9.4 MB 1.2 MB/s eta 0:00:02\n",
      "   ---------------------------------- ----- 8.2/9.4 MB 1.2 MB/s eta 0:00:02\n",
      "   ---------------------------------- ----- 8.3/9.4 MB 1.2 MB/s eta 0:00:02\n",
      "   ----------------------------------- ---- 8.3/9.4 MB 1.2 MB/s eta 0:00:01\n",
      "   ----------------------------------- ---- 8.4/9.4 MB 1.2 MB/s eta 0:00:01\n",
      "   ----------------------------------- ---- 8.4/9.4 MB 1.2 MB/s eta 0:00:01\n",
      "   ----------------------------------- ---- 8.5/9.4 MB 1.2 MB/s eta 0:00:01\n",
      "   ------------------------------------ --- 8.5/9.4 MB 1.2 MB/s eta 0:00:01\n",
      "   ------------------------------------ --- 8.6/9.4 MB 1.2 MB/s eta 0:00:01\n",
      "   ------------------------------------ --- 8.6/9.4 MB 1.2 MB/s eta 0:00:01\n",
      "   ------------------------------------ --- 8.7/9.4 MB 1.2 MB/s eta 0:00:01\n",
      "   ------------------------------------- -- 8.7/9.4 MB 1.2 MB/s eta 0:00:01\n",
      "   ------------------------------------- -- 8.8/9.4 MB 1.2 MB/s eta 0:00:01\n",
      "   ------------------------------------- -- 8.9/9.4 MB 1.2 MB/s eta 0:00:01\n",
      "   ------------------------------------- -- 8.9/9.4 MB 1.2 MB/s eta 0:00:01\n",
      "   ------------------------------------- -- 8.9/9.4 MB 1.2 MB/s eta 0:00:01\n",
      "   -------------------------------------- - 9.0/9.4 MB 1.2 MB/s eta 0:00:01\n",
      "   -------------------------------------- - 9.1/9.4 MB 1.2 MB/s eta 0:00:01\n",
      "   -------------------------------------- - 9.1/9.4 MB 1.2 MB/s eta 0:00:01\n",
      "   -------------------------------------- - 9.2/9.4 MB 1.2 MB/s eta 0:00:01\n",
      "   ---------------------------------------  9.2/9.4 MB 1.2 MB/s eta 0:00:01\n",
      "   ---------------------------------------  9.3/9.4 MB 1.2 MB/s eta 0:00:01\n",
      "   ---------------------------------------  9.3/9.4 MB 1.2 MB/s eta 0:00:01\n",
      "   ---------------------------------------  9.4/9.4 MB 1.2 MB/s eta 0:00:01\n",
      "   ---------------------------------------  9.4/9.4 MB 1.2 MB/s eta 0:00:01\n",
      "   ---------------------------------------- 9.4/9.4 MB 1.2 MB/s eta 0:00:00\n",
      "Downloading trio-0.26.0-py3-none-any.whl (475 kB)\n",
      "   ---------------------------------------- 0.0/475.7 kB ? eta -:--:--\n",
      "   --- ----------------------------------- 41.0/475.7 kB 960.0 kB/s eta 0:00:01\n",
      "   --------- ------------------------------ 112.6/475.7 kB 1.3 MB/s eta 0:00:01\n",
      "   ------------- -------------------------- 163.8/475.7 kB 1.2 MB/s eta 0:00:01\n",
      "   ----------------- ---------------------- 204.8/475.7 kB 1.1 MB/s eta 0:00:01\n",
      "   ---------------------- ----------------- 266.2/475.7 kB 1.2 MB/s eta 0:00:01\n",
      "   -------------------------- ------------- 317.4/475.7 kB 1.2 MB/s eta 0:00:01\n",
      "   ------------------------------- -------- 378.9/475.7 kB 1.2 MB/s eta 0:00:01\n",
      "   ------------------------------------ --- 430.1/475.7 kB 1.2 MB/s eta 0:00:01\n",
      "   ---------------------------------------- 475.7/475.7 kB 1.1 MB/s eta 0:00:00\n",
      "Downloading trio_websocket-0.11.1-py3-none-any.whl (17 kB)\n",
      "Downloading websocket_client-1.8.0-py3-none-any.whl (58 kB)\n",
      "   ---------------------------------------- 0.0/58.8 kB ? eta -:--:--\n",
      "   --------------------------- ------------ 41.0/58.8 kB 991.0 kB/s eta 0:00:01\n",
      "   ---------------------------------------- 58.8/58.8 kB 1.0 MB/s eta 0:00:00\n",
      "Downloading attrs-24.1.0-py3-none-any.whl (63 kB)\n",
      "   ---------------------------------------- 0.0/63.9 kB ? eta -:--:--\n",
      "   ------------------------- -------------- 41.0/63.9 kB 991.0 kB/s eta 0:00:01\n",
      "   ---------------------------------------- 63.9/63.9 kB 1.1 MB/s eta 0:00:00\n",
      "Downloading cffi-1.16.0-cp311-cp311-win_amd64.whl (181 kB)\n",
      "   ---------------------------------------- 0.0/181.5 kB ? eta -:--:--\n",
      "   ------ --------------------------------- 30.7/181.5 kB 1.3 MB/s eta 0:00:01\n",
      "   -------------------- ------------------- 92.2/181.5 kB 1.3 MB/s eta 0:00:01\n",
      "   ------------------------------- -------- 143.4/181.5 kB 1.2 MB/s eta 0:00:01\n",
      "   ---------------------------------------- 181.5/181.5 kB 1.2 MB/s eta 0:00:00\n",
      "Downloading PySocks-1.7.1-py3-none-any.whl (16 kB)\n",
      "Downloading sniffio-1.3.1-py3-none-any.whl (10 kB)\n",
      "Downloading wsproto-1.2.0-py3-none-any.whl (24 kB)\n",
      "Downloading outcome-1.3.0.post0-py2.py3-none-any.whl (10 kB)\n",
      "Downloading sortedcontainers-2.4.0-py2.py3-none-any.whl (29 kB)\n",
      "Downloading h11-0.14.0-py3-none-any.whl (58 kB)\n",
      "   ---------------------------------------- 0.0/58.3 kB ? eta -:--:--\n",
      "   ---------------------------- ----------- 41.0/58.3 kB 2.0 MB/s eta 0:00:01\n",
      "   ---------------------------------------- 58.3/58.3 kB 1.5 MB/s eta 0:00:00\n",
      "Downloading pycparser-2.22-py3-none-any.whl (117 kB)\n",
      "   ---------------------------------------- 0.0/117.6 kB ? eta -:--:--\n",
      "   ---------- ----------------------------- 30.7/117.6 kB 1.3 MB/s eta 0:00:01\n",
      "   ------------------------------- -------- 92.2/117.6 kB 1.3 MB/s eta 0:00:01\n",
      "   ---------------------------------------- 117.6/117.6 kB 1.1 MB/s eta 0:00:00\n",
      "Installing collected packages: sortedcontainers, websocket-client, sniffio, pysocks, pycparser, h11, attrs, wsproto, outcome, cffi, trio, trio-websocket, selenium\n",
      "Successfully installed attrs-24.1.0 cffi-1.16.0 h11-0.14.0 outcome-1.3.0.post0 pycparser-2.22 pysocks-1.7.1 selenium-4.23.1 sniffio-1.3.1 sortedcontainers-2.4.0 trio-0.26.0 trio-websocket-0.11.1 websocket-client-1.8.0 wsproto-1.2.0\n"
     ]
    },
    {
     "name": "stderr",
     "output_type": "stream",
     "text": [
      "\n",
      "[notice] A new release of pip is available: 24.0 -> 24.2\n",
      "[notice] To update, run: python.exe -m pip install --upgrade pip\n"
     ]
    }
   ],
   "source": [
    "!pip install selenium"
   ]
  },
  {
   "cell_type": "markdown",
   "metadata": {},
   "source": [
    "#### 셀레니움 사용법\n",
    "- 셀레니움 라이브러리\n",
    "- WebDriver : 셀레니움이 웹 브라우저 프로세스를 관리할 수 있도록 해주는 프로그램\n",
    "    - 크롬브라우저를 사용하면 ChromeDriver 다운로드 후 설치\n",
    "    - 조심! 현재 크롬 브라우저 버전과 맞는 ChromeDriver를 설치\n",
    "    - 크롬 설정에서 현재 버전 확인\n",
    "    - https://googlechromelabs.github.io/chrome-for-testing/ 에서 버전에 맞는 드라이버를 다운로드\n",
    "    - chromedriver-win64.zip 다운 후 압축해제\n",
    "    - 특정위치에 chromedriver 폴더 생성 chromedriver.exe 붙여넣기\n",
    "    - chromedriver 위치를 시스템정보(sysdm.cpl) Path에 등록\n",
    "\n",
    "- 셀레니움 사용등록"
   ]
  },
  {
   "cell_type": "code",
   "execution_count": 2,
   "metadata": {},
   "outputs": [],
   "source": [
    "from selenium import webdriver"
   ]
  },
  {
   "cell_type": "code",
   "execution_count": 3,
   "metadata": {},
   "outputs": [],
   "source": [
    "# 웹드라이버(크롬드라이버)에서 크롬 브라우저를 실행\n",
    "driver = webdriver.Chrome()"
   ]
  },
  {
   "cell_type": "code",
   "execution_count": 4,
   "metadata": {},
   "outputs": [],
   "source": [
    "### 웹사이트를 크롬드라이버가 제어하는 브라우저에 오픈\n",
    "url = 'https://www.melon.com/chart/index.htm'\n",
    "driver.get(url)"
   ]
  },
  {
   "cell_type": "code",
   "execution_count": 5,
   "metadata": {},
   "outputs": [],
   "source": [
    "### 웹페이지 가져옴\n",
    "html = driver.page_source"
   ]
  },
  {
   "cell_type": "code",
   "execution_count": 6,
   "metadata": {},
   "outputs": [],
   "source": [
    "## beautifulsoup 사용\n",
    "from bs4 import BeautifulSoup"
   ]
  },
  {
   "cell_type": "code",
   "execution_count": 7,
   "metadata": {},
   "outputs": [],
   "source": [
    "# HTML 문자열을 Bs 객체 변환\n",
    "soup = BeautifulSoup(html, 'html.parser')"
   ]
  },
  {
   "cell_type": "code",
   "execution_count": 8,
   "metadata": {},
   "outputs": [
    {
     "data": {
      "text/plain": [
       "<tr class=\"lst50\" data-song-no=\"37524037\" id=\"lst50\">\n",
       "<td><div class=\"wrap t_right\"><input class=\"input_check\" name=\"input_check\" title=\"Supernova 곡 선택\" type=\"checkbox\" value=\"37524037\"/></div></td>\n",
       "<td><div class=\"wrap t_center\"><span class=\"rank\">1</span><span class=\"none\">위</span></div></td>\n",
       "<!-- 차트순위 추가 -->\n",
       "<td><div class=\"wrap\">\n",
       "<span class=\"rank_wrap\" title=\"순위 동일\">\n",
       "<span class=\"bullet_icons rank_static\"><span class=\"none\">순위 동일</span></span>\n",
       "<span class=\"none\">0</span>\n",
       "</span>\n",
       "</div></td>\n",
       "<td><div class=\"wrap\">\n",
       "<a class=\"image_typeAll\" href=\"javascript:melon.link.goAlbumDetail('11487023');\" title=\"Armageddon - The 1st Album\">\n",
       "<img alt=\"Armageddon - The 1st Album - 페이지 이동\" height=\"60\" onerror=\"WEBPOCIMG.defaultAlbumImg(this);\" src=\"https://cdnimg.melon.co.kr/cm2/album/images/114/87/023/11487023_20240527154018_500.jpg/melon/resize/120/quality/80/optimize\" width=\"60\"/>\n",
       "<span class=\"bg_album_frame\"></span>\n",
       "</a>\n",
       "</div></td>\n",
       "<td><div class=\"wrap\">\n",
       "<a class=\"btn button_icons type03 song_info\" href=\"javascript:melon.link.goSongDetail('37524037');\" title=\"Supernova 곡정보\"><span class=\"none\">곡정보</span></a>\n",
       "</div></td>\n",
       "<td><div class=\"wrap\">\n",
       "<div class=\"wrap_song_info\">\n",
       "<div class=\"ellipsis rank01\"><span>\n",
       "<a href=\"javascript:melon.play.playSong('1000002721',37524037);\" title=\"Supernova 재생\">Supernova</a>\n",
       "</span></div><br/>\n",
       "<div class=\"ellipsis rank02\">\n",
       "<a href=\"javascript:melon.link.goArtistDetail('2899555');\" title=\"aespa - 페이지 이동\">aespa</a><span class=\"checkEllipsis\" style=\"display: none;\"><a href=\"javascript:melon.link.goArtistDetail('2899555');\" title=\"aespa - 페이지 이동\">aespa</a></span>\n",
       "</div>\n",
       "</div>\n",
       "</div></td>\n",
       "<td><div class=\"wrap\">\n",
       "<div class=\"wrap_song_info\">\n",
       "<div class=\"ellipsis rank03\">\n",
       "<a href=\"javascript:melon.link.goAlbumDetail('11487023');\" title=\"Armageddon - The 1st Album - 페이지 이동\">Armageddon - The 1st Album</a>\n",
       "</div>\n",
       "</div>\n",
       "</div></td>\n",
       "<td><div class=\"wrap\">\n",
       "<button class=\"button_etc like\" data-song-menuid=\"1000002721\" data-song-no=\"37524037\" title=\"Supernova 좋아요\" type=\"button\"><span class=\"odd_span\">좋아요</span>\n",
       "<span class=\"cnt\">\n",
       "<span class=\"none\">총건수</span>\n",
       "149,191</span></button>\n",
       "</div></td>\n",
       "<td><div class=\"wrap t_center\">\n",
       "<button class=\"button_icons play\" onclick=\"melon.play.playSong('1000002721',37524037);\" title=\"듣기\" type=\"button\"><span class=\"none\">듣기</span></button>\n",
       "</div></td>\n",
       "<td><div class=\"wrap t_center\">\n",
       "<button class=\"button_icons scrap\" onclick=\"melon.play.addPlayList('37524037');\" title=\"담기\" type=\"button\"><span class=\"none\">담기</span></button>\n",
       "</div></td>\n",
       "<td><div class=\"wrap t_center\">\n",
       "<button class=\"button_icons download\" onclick=\"melon.buy.goBuyProduct('frm', '37524037', '3C0001', '','0', '1000002721');\" title=\"다운로드\" type=\"button\"><span class=\"none\">다운로드</span></button>\n",
       "</div></td>\n",
       "<td><div class=\"wrap t_center\">\n",
       "<button class=\"button_icons video\" onclick=\"melon.link.goMvDetail('1000002721', '37524037','song');\" title=\"뮤직비디오\" type=\"button\"><span class=\"none\">뮤직비디오</span></button>\n",
       "</div></td>\n",
       "</tr>"
      ]
     },
     "execution_count": 8,
     "metadata": {},
     "output_type": "execute_result"
    }
   ],
   "source": [
    "result = soup.select('table > tbody > tr')\n",
    "result[0] # 1위 데이터"
   ]
  },
  {
   "cell_type": "code",
   "execution_count": 9,
   "metadata": {},
   "outputs": [],
   "source": [
    "# 1위만 할당\n",
    "top1 = result[0]"
   ]
  },
  {
   "cell_type": "code",
   "execution_count": 10,
   "metadata": {},
   "outputs": [
    {
     "data": {
      "text/plain": [
       "'Cruel Summer'"
      ]
     },
     "execution_count": 10,
     "metadata": {},
     "output_type": "execute_result"
    }
   ],
   "source": [
    "result[99].select('a')[2].text"
   ]
  },
  {
   "cell_type": "code",
   "execution_count": 11,
   "metadata": {},
   "outputs": [
    {
     "data": {
      "text/plain": [
       "'Supernova'"
      ]
     },
     "execution_count": 11,
     "metadata": {},
     "output_type": "execute_result"
    }
   ],
   "source": [
    "## 필요데이터만 추출, 노래제목\n",
    "top1.select('a')[2].text"
   ]
  },
  {
   "cell_type": "markdown",
   "metadata": {},
   "source": [
    "##### BS로만 오류가 난 사이트 테스트\n",
    "1. 다나와"
   ]
  },
  {
   "cell_type": "markdown",
   "metadata": {},
   "source": [
    "- 검색어 입력, 아이디/패스워드 입력 진행하려면 \n",
    "- selenium의 라이브러리 중 common.by 가 필요"
   ]
  },
  {
   "cell_type": "code",
   "execution_count": 12,
   "metadata": {},
   "outputs": [],
   "source": [
    "from selenium.webdriver.common.by import By"
   ]
  },
  {
   "cell_type": "code",
   "execution_count": 13,
   "metadata": {},
   "outputs": [],
   "source": [
    "# 다나와사이트 \n",
    "driver.get('https://www.danawa.com/')"
   ]
  },
  {
   "cell_type": "code",
   "execution_count": 14,
   "metadata": {},
   "outputs": [
    {
     "ename": "NoSuchWindowException",
     "evalue": "Message: no such window: target window already closed\nfrom unknown error: web view not found\n  (Session info: chrome=127.0.6533.89)\nStacktrace:\n\tGetHandleVerifier [0x00007FF7DB399632+30946]\n\t(No symbol) [0x00007FF7DB34E3C9]\n\t(No symbol) [0x00007FF7DB246FDA]\n\t(No symbol) [0x00007FF7DB21CB85]\n\t(No symbol) [0x00007FF7DB2C37A7]\n\t(No symbol) [0x00007FF7DB2DA771]\n\t(No symbol) [0x00007FF7DB2BC813]\n\t(No symbol) [0x00007FF7DB28A6E5]\n\t(No symbol) [0x00007FF7DB28B021]\n\tGetHandleVerifier [0x00007FF7DB4CF83D+1301229]\n\tGetHandleVerifier [0x00007FF7DB4DBDB7+1351783]\n\tGetHandleVerifier [0x00007FF7DB4D2A03+1313971]\n\tGetHandleVerifier [0x00007FF7DB3CDD06+245686]\n\t(No symbol) [0x00007FF7DB35758F]\n\t(No symbol) [0x00007FF7DB353804]\n\t(No symbol) [0x00007FF7DB353992]\n\t(No symbol) [0x00007FF7DB34A3EF]\n\tBaseThreadInitThunk [0x00007FFBD060257D+29]\n\tRtlUserThreadStart [0x00007FFBD210AF28+40]\n",
     "output_type": "error",
     "traceback": [
      "\u001b[1;31m---------------------------------------------------------------------------\u001b[0m",
      "\u001b[1;31mNoSuchWindowException\u001b[0m                     Traceback (most recent call last)",
      "Cell \u001b[1;32mIn[14], line 2\u001b[0m\n\u001b[0;32m      1\u001b[0m \u001b[38;5;66;03m## 검색어 입력\u001b[39;00m\n\u001b[1;32m----> 2\u001b[0m input_search \u001b[38;5;241m=\u001b[39m \u001b[43mdriver\u001b[49m\u001b[38;5;241;43m.\u001b[39;49m\u001b[43mfind_element\u001b[49m\u001b[43m(\u001b[49m\u001b[43mBy\u001b[49m\u001b[38;5;241;43m.\u001b[39;49m\u001b[43mID\u001b[49m\u001b[43m,\u001b[49m\u001b[43m \u001b[49m\u001b[38;5;124;43m'\u001b[39;49m\u001b[38;5;124;43mAKCSearch\u001b[39;49m\u001b[38;5;124;43m'\u001b[39;49m\u001b[43m)\u001b[49m\n\u001b[0;32m      3\u001b[0m input_search\u001b[38;5;241m.\u001b[39mclear()\n\u001b[0;32m      4\u001b[0m input_search\u001b[38;5;241m.\u001b[39msend_keys(\u001b[38;5;124m'\u001b[39m\u001b[38;5;124mHP노트북\u001b[39m\u001b[38;5;124m'\u001b[39m)\n",
      "File \u001b[1;32mc:\\DEV\\Langs\\Python311\\Lib\\site-packages\\selenium\\webdriver\\remote\\webdriver.py:748\u001b[0m, in \u001b[0;36mWebDriver.find_element\u001b[1;34m(self, by, value)\u001b[0m\n\u001b[0;32m    745\u001b[0m     by \u001b[38;5;241m=\u001b[39m By\u001b[38;5;241m.\u001b[39mCSS_SELECTOR\n\u001b[0;32m    746\u001b[0m     value \u001b[38;5;241m=\u001b[39m \u001b[38;5;124mf\u001b[39m\u001b[38;5;124m'\u001b[39m\u001b[38;5;124m[name=\u001b[39m\u001b[38;5;124m\"\u001b[39m\u001b[38;5;132;01m{\u001b[39;00mvalue\u001b[38;5;132;01m}\u001b[39;00m\u001b[38;5;124m\"\u001b[39m\u001b[38;5;124m]\u001b[39m\u001b[38;5;124m'\u001b[39m\n\u001b[1;32m--> 748\u001b[0m \u001b[38;5;28;01mreturn\u001b[39;00m \u001b[38;5;28;43mself\u001b[39;49m\u001b[38;5;241;43m.\u001b[39;49m\u001b[43mexecute\u001b[49m\u001b[43m(\u001b[49m\u001b[43mCommand\u001b[49m\u001b[38;5;241;43m.\u001b[39;49m\u001b[43mFIND_ELEMENT\u001b[49m\u001b[43m,\u001b[49m\u001b[43m \u001b[49m\u001b[43m{\u001b[49m\u001b[38;5;124;43m\"\u001b[39;49m\u001b[38;5;124;43musing\u001b[39;49m\u001b[38;5;124;43m\"\u001b[39;49m\u001b[43m:\u001b[49m\u001b[43m \u001b[49m\u001b[43mby\u001b[49m\u001b[43m,\u001b[49m\u001b[43m \u001b[49m\u001b[38;5;124;43m\"\u001b[39;49m\u001b[38;5;124;43mvalue\u001b[39;49m\u001b[38;5;124;43m\"\u001b[39;49m\u001b[43m:\u001b[49m\u001b[43m \u001b[49m\u001b[43mvalue\u001b[49m\u001b[43m}\u001b[49m\u001b[43m)\u001b[49m[\u001b[38;5;124m\"\u001b[39m\u001b[38;5;124mvalue\u001b[39m\u001b[38;5;124m\"\u001b[39m]\n",
      "File \u001b[1;32mc:\\DEV\\Langs\\Python311\\Lib\\site-packages\\selenium\\webdriver\\remote\\webdriver.py:354\u001b[0m, in \u001b[0;36mWebDriver.execute\u001b[1;34m(self, driver_command, params)\u001b[0m\n\u001b[0;32m    352\u001b[0m response \u001b[38;5;241m=\u001b[39m \u001b[38;5;28mself\u001b[39m\u001b[38;5;241m.\u001b[39mcommand_executor\u001b[38;5;241m.\u001b[39mexecute(driver_command, params)\n\u001b[0;32m    353\u001b[0m \u001b[38;5;28;01mif\u001b[39;00m response:\n\u001b[1;32m--> 354\u001b[0m     \u001b[38;5;28;43mself\u001b[39;49m\u001b[38;5;241;43m.\u001b[39;49m\u001b[43merror_handler\u001b[49m\u001b[38;5;241;43m.\u001b[39;49m\u001b[43mcheck_response\u001b[49m\u001b[43m(\u001b[49m\u001b[43mresponse\u001b[49m\u001b[43m)\u001b[49m\n\u001b[0;32m    355\u001b[0m     response[\u001b[38;5;124m\"\u001b[39m\u001b[38;5;124mvalue\u001b[39m\u001b[38;5;124m\"\u001b[39m] \u001b[38;5;241m=\u001b[39m \u001b[38;5;28mself\u001b[39m\u001b[38;5;241m.\u001b[39m_unwrap_value(response\u001b[38;5;241m.\u001b[39mget(\u001b[38;5;124m\"\u001b[39m\u001b[38;5;124mvalue\u001b[39m\u001b[38;5;124m\"\u001b[39m, \u001b[38;5;28;01mNone\u001b[39;00m))\n\u001b[0;32m    356\u001b[0m     \u001b[38;5;28;01mreturn\u001b[39;00m response\n",
      "File \u001b[1;32mc:\\DEV\\Langs\\Python311\\Lib\\site-packages\\selenium\\webdriver\\remote\\errorhandler.py:229\u001b[0m, in \u001b[0;36mErrorHandler.check_response\u001b[1;34m(self, response)\u001b[0m\n\u001b[0;32m    227\u001b[0m         alert_text \u001b[38;5;241m=\u001b[39m value[\u001b[38;5;124m\"\u001b[39m\u001b[38;5;124malert\u001b[39m\u001b[38;5;124m\"\u001b[39m]\u001b[38;5;241m.\u001b[39mget(\u001b[38;5;124m\"\u001b[39m\u001b[38;5;124mtext\u001b[39m\u001b[38;5;124m\"\u001b[39m)\n\u001b[0;32m    228\u001b[0m     \u001b[38;5;28;01mraise\u001b[39;00m exception_class(message, screen, stacktrace, alert_text)  \u001b[38;5;66;03m# type: ignore[call-arg]  # mypy is not smart enough here\u001b[39;00m\n\u001b[1;32m--> 229\u001b[0m \u001b[38;5;28;01mraise\u001b[39;00m exception_class(message, screen, stacktrace)\n",
      "\u001b[1;31mNoSuchWindowException\u001b[0m: Message: no such window: target window already closed\nfrom unknown error: web view not found\n  (Session info: chrome=127.0.6533.89)\nStacktrace:\n\tGetHandleVerifier [0x00007FF7DB399632+30946]\n\t(No symbol) [0x00007FF7DB34E3C9]\n\t(No symbol) [0x00007FF7DB246FDA]\n\t(No symbol) [0x00007FF7DB21CB85]\n\t(No symbol) [0x00007FF7DB2C37A7]\n\t(No symbol) [0x00007FF7DB2DA771]\n\t(No symbol) [0x00007FF7DB2BC813]\n\t(No symbol) [0x00007FF7DB28A6E5]\n\t(No symbol) [0x00007FF7DB28B021]\n\tGetHandleVerifier [0x00007FF7DB4CF83D+1301229]\n\tGetHandleVerifier [0x00007FF7DB4DBDB7+1351783]\n\tGetHandleVerifier [0x00007FF7DB4D2A03+1313971]\n\tGetHandleVerifier [0x00007FF7DB3CDD06+245686]\n\t(No symbol) [0x00007FF7DB35758F]\n\t(No symbol) [0x00007FF7DB353804]\n\t(No symbol) [0x00007FF7DB353992]\n\t(No symbol) [0x00007FF7DB34A3EF]\n\tBaseThreadInitThunk [0x00007FFBD060257D+29]\n\tRtlUserThreadStart [0x00007FFBD210AF28+40]\n"
     ]
    }
   ],
   "source": [
    "## 검색어 입력\n",
    "input_search = driver.find_element(By.ID, 'AKCSearch')\n",
    "input_search.clear()\n",
    "input_search.send_keys('HP노트북')\n",
    "input_search.submit()"
   ]
  },
  {
   "cell_type": "code",
   "execution_count": null,
   "metadata": {},
   "outputs": [],
   "source": [
    "html = driver.page_source"
   ]
  },
  {
   "cell_type": "code",
   "execution_count": null,
   "metadata": {},
   "outputs": [],
   "source": [
    "soup2 = BeautifulSoup(html, 'html.parser')"
   ]
  },
  {
   "cell_type": "code",
   "execution_count": null,
   "metadata": {},
   "outputs": [],
   "source": [
    "## 필요데이터 추출\n",
    "result2 = soup2.select('ul.product_list > li.prod_item')"
   ]
  },
  {
   "cell_type": "code",
   "execution_count": null,
   "metadata": {},
   "outputs": [
    {
     "data": {
      "text/plain": [
       "'HP 255 G10 9F186PT'"
      ]
     },
     "execution_count": 72,
     "metadata": {},
     "output_type": "execute_result"
    }
   ],
   "source": [
    "# 1위 이름만\n",
    "result2[0].select('p.prod_name > a')[0].text"
   ]
  },
  {
   "cell_type": "code",
   "execution_count": null,
   "metadata": {},
   "outputs": [
    {
     "data": {
      "text/plain": [
       "'\\n노트북/운영체제(OS): 미포함(프리도스)/용도: 사무/인강용/39.6cm(15.6인치)/AMD/라이젠5(Zen3)/7530U (2.0Hz)/램 용량: 8GB/내장그래픽/Radeon Graphics/256GB/HDMI/웹캠(FHD)/USB-C: 1개/USB-A: 2개/배터리: 41Wh/어댑터: 45W/전원: DC/최대12시간/두께: 18.6mm/무게: 1.52kg/색상: 실버\\t\\t\\t\\t\\t\\t\\t\\t\\t\\t'"
      ]
     },
     "execution_count": 76,
     "metadata": {},
     "output_type": "execute_result"
    }
   ],
   "source": [
    "# 1위 사양\n",
    "result2[0].select('div.spec_list')[0].text"
   ]
  },
  {
   "cell_type": "code",
   "execution_count": null,
   "metadata": {},
   "outputs": [],
   "source": [
    "## 네이버\n",
    "driver.get('https://www.naver.com')"
   ]
  },
  {
   "cell_type": "code",
   "execution_count": null,
   "metadata": {},
   "outputs": [],
   "source": [
    "## 검색어 입력\n",
    "input_search = driver.find_element(By.ID, 'query')\n",
    "input_search.clear()\n",
    "input_search.send_keys('HP노트북')\n",
    "input_search.submit()"
   ]
  },
  {
   "cell_type": "code",
   "execution_count": null,
   "metadata": {},
   "outputs": [],
   "source": [
    "html3 =  driver.page_source"
   ]
  },
  {
   "cell_type": "code",
   "execution_count": null,
   "metadata": {},
   "outputs": [],
   "source": [
    "soup3 = BeautifulSoup(html3, 'html.parser')"
   ]
  },
  {
   "cell_type": "markdown",
   "metadata": {},
   "source": [
    "- 네이버도 크롤링가능"
   ]
  }
 ],
 "metadata": {
  "kernelspec": {
   "display_name": "Python 3",
   "language": "python",
   "name": "python3"
  },
  "language_info": {
   "codemirror_mode": {
    "name": "ipython",
    "version": 3
   },
   "file_extension": ".py",
   "mimetype": "text/x-python",
   "name": "python",
   "nbconvert_exporter": "python",
   "pygments_lexer": "ipython3",
   "version": "3.11.5"
  }
 },
 "nbformat": 4,
 "nbformat_minor": 2
}
